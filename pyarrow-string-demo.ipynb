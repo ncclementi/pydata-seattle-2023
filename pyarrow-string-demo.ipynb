{
 "cells": [
  {
   "cell_type": "markdown",
   "id": "a57760a9-fe79-44ee-8086-1850bc46985c",
   "metadata": {},
   "source": [
    "# PyArrow Strings in Dask DataFrames\n",
    "\n",
    "Blogpost: https://www.coiled.io/blog/pyarrow-strings-in-dask-dataframes"
   ]
  },
  {
   "cell_type": "code",
   "execution_count": null,
   "id": "8d35d486-2495-4d8a-83fb-8db161c95f65",
   "metadata": {
    "tags": []
   },
   "outputs": [],
   "source": [
    "import dask\n",
    "\n",
    "# Turn automatic PyArrow strings on\n",
    "dask.config.set({\"dataframe.convert-string\": True});"
   ]
  },
  {
   "cell_type": "code",
   "execution_count": null,
   "id": "2441a7d4-08f6-4f9f-b072-af891e934570",
   "metadata": {
    "tags": []
   },
   "outputs": [],
   "source": [
    "import coiled"
   ]
  },
  {
   "cell_type": "code",
   "execution_count": null,
   "id": "b7d55090-e05b-4fbb-86ed-25e6e3db2850",
   "metadata": {
    "tags": []
   },
   "outputs": [],
   "source": [
    "%%time\n",
    "cluster = coiled.Cluster(\n",
    "    name=\"pyarrow-dtypes-demo\",\n",
    "    n_workers=15,\n",
    "    backend_options={\"region\": \"us-east-2\"},\n",
    ")"
   ]
  },
  {
   "cell_type": "code",
   "execution_count": null,
   "id": "df05a5c5-a6e4-485e-8931-d453f077c9b7",
   "metadata": {
    "tags": []
   },
   "outputs": [],
   "source": [
    "client = cluster.get_client()\n",
    "client"
   ]
  },
  {
   "cell_type": "code",
   "execution_count": null,
   "id": "3294a214-9503-4699-97bd-f7b655d83785",
   "metadata": {
    "tags": []
   },
   "outputs": [],
   "source": [
    "import dask.dataframe as dd\n",
    "from dask.distributed import wait"
   ]
  },
  {
   "cell_type": "code",
   "execution_count": null,
   "id": "ee46e266-091b-4bc6-990e-cbecb20a724f",
   "metadata": {
    "tags": []
   },
   "outputs": [],
   "source": [
    "df = dd.read_parquet(\n",
    "    \"s3://coiled-datasets/uber-lyft-tlc/\",\n",
    "    storage_options={\"anon\": True},\n",
    ").persist()\n",
    "\n",
    "wait(df); # ~95 GB"
   ]
  },
  {
   "cell_type": "code",
   "execution_count": null,
   "id": "3dff5dd4-05c9-4cb7-a5d6-b4c35b164c89",
   "metadata": {
    "tags": []
   },
   "outputs": [],
   "source": [
    "%%time\n",
    "\n",
    "df[\"tipped\"] = df.tips != 0\n",
    "df.groupby(df.hvfhs_license_num).tipped.mean().compute()"
   ]
  },
  {
   "cell_type": "markdown",
   "id": "57ea7c37-7ffe-4f50-997b-c96ffc2b28d7",
   "metadata": {},
   "source": [
    "## Turn off PyArrow Strings"
   ]
  },
  {
   "cell_type": "code",
   "execution_count": null,
   "id": "97502b93-5f12-47da-a0d9-23e7d079b9dc",
   "metadata": {
    "tags": []
   },
   "outputs": [],
   "source": [
    "# Turn automatic PyArrow strings off\n",
    "\n",
    "dask.config.set({\"dataframe.convert-string\": False});"
   ]
  },
  {
   "cell_type": "markdown",
   "id": "5cef2aac-6cd2-4b4e-baae-a01a60d5a767",
   "metadata": {},
   "source": [
    "Without PyArrow strings, we need a bigger cluster"
   ]
  },
  {
   "cell_type": "code",
   "execution_count": null,
   "id": "204aa846-86d7-4bf2-949c-efc8d0a78bb1",
   "metadata": {
    "tags": []
   },
   "outputs": [],
   "source": [
    "%%time\n",
    "cluster.scale(45)\n",
    "client.wait_for_workers(45)"
   ]
  },
  {
   "cell_type": "markdown",
   "id": "6658b4a6-943b-4b5b-ad74-883a18b29714",
   "metadata": {},
   "source": [
    "This is the exact same computation as before"
   ]
  },
  {
   "cell_type": "code",
   "execution_count": null,
   "id": "e0905631-c04b-4a68-8cd4-63d984c9c4a9",
   "metadata": {
    "tags": []
   },
   "outputs": [],
   "source": [
    "df = dd.read_parquet(\n",
    "    \"s3://coiled-datasets/uber-lyft-tlc/\",\n",
    "    storage_options={\"anon\": True},\n",
    ").persist()\n",
    "\n",
    "wait(df); # ~225 GB"
   ]
  },
  {
   "cell_type": "code",
   "execution_count": null,
   "id": "c1efab35-21d5-4334-86db-d4e1cb4731dd",
   "metadata": {
    "tags": []
   },
   "outputs": [],
   "source": [
    "%%time\n",
    "\n",
    "df[\"tipped\"] = df.tips != 0\n",
    "df.groupby(df.hvfhs_license_num).tipped.mean().compute()"
   ]
  },
  {
   "cell_type": "markdown",
   "id": "3111820f-3bb4-41bc-92cb-624d2ae1a7c6",
   "metadata": {},
   "source": [
    "## Conclusion\n",
    "\n",
    "PyArrow strings are a significant win for the entire PyData community. They're also a work in progress.\n",
    "\n",
    "Please try them out and let us know what your experience is like here https://github.com/dask/dask/issues/10139."
   ]
  }
 ],
 "metadata": {
  "kernelspec": {
   "display_name": "Python 3 (ipykernel)",
   "language": "python",
   "name": "python3"
  },
  "language_info": {
   "codemirror_mode": {
    "name": "ipython",
    "version": 3
   },
   "file_extension": ".py",
   "mimetype": "text/x-python",
   "name": "python",
   "nbconvert_exporter": "python",
   "pygments_lexer": "ipython3",
   "version": "3.10.0"
  }
 },
 "nbformat": 4,
 "nbformat_minor": 5
}
