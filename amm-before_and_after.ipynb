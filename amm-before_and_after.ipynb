{
 "cells": [
  {
   "cell_type": "code",
   "execution_count": null,
   "id": "f995e113-831a-4a0b-8d60-3d64dbf05ef0",
   "metadata": {
    "tags": []
   },
   "outputs": [],
   "source": [
    "import coiled\n",
    "import dask\n",
    "import dask.array as da\n",
    "from dask.distributed import Client, wait"
   ]
  },
  {
   "cell_type": "code",
   "execution_count": null,
   "id": "0294ffe1-ffc7-4e49-9ce6-cb7be591f3a0",
   "metadata": {
    "tags": []
   },
   "outputs": [],
   "source": [
    "%%time\n",
    "cluster = coiled.Cluster(name=\"array-amm-demo\",\n",
    "                            n_workers=48,                              \n",
    "                            )\n"
   ]
  },
  {
   "cell_type": "code",
   "execution_count": null,
   "id": "dfca4bd6-a1dc-4c5b-847b-7885ebbdc370",
   "metadata": {
    "tags": []
   },
   "outputs": [],
   "source": [
    "client = Client(cluster)\n",
    "client"
   ]
  },
  {
   "cell_type": "code",
   "execution_count": null,
   "id": "63a9e274-e417-4f6c-93ef-18f32c5610b6",
   "metadata": {
    "tags": []
   },
   "outputs": [],
   "source": [
    "import dask.array as da\n",
    "A = da.random.random((40_000, 40_000), \n",
    "                     chunks=(4_000, 4_000))\n",
    "b = (A @ A.T).sum()"
   ]
  },
  {
   "cell_type": "code",
   "execution_count": null,
   "id": "898f6bc8-df84-483d-9808-dd987677ece5",
   "metadata": {
    "tags": []
   },
   "outputs": [],
   "source": [
    "client.amm.running()"
   ]
  },
  {
   "cell_type": "code",
   "execution_count": null,
   "id": "ca61a59d-5189-486e-b0b5-613f34aa4c92",
   "metadata": {
    "tags": []
   },
   "outputs": [],
   "source": [
    "from distributed.diagnostics import MemorySampler\n",
    "ms = MemorySampler()"
   ]
  },
  {
   "cell_type": "code",
   "execution_count": null,
   "id": "5c98116a-57fd-4208-9cdb-d39e5b93475d",
   "metadata": {
    "tags": []
   },
   "outputs": [],
   "source": [
    "with ms.sample(\"AMM on\"):\n",
    "    b.compute()"
   ]
  },
  {
   "cell_type": "code",
   "execution_count": null,
   "id": "afb63264-7a0b-46d6-877f-a9658eca1ccb",
   "metadata": {
    "tags": []
   },
   "outputs": [],
   "source": [
    "client.amm.stop()"
   ]
  },
  {
   "cell_type": "code",
   "execution_count": null,
   "id": "d2e79b65-f509-4d10-8d40-5d117fb5c3fc",
   "metadata": {
    "tags": []
   },
   "outputs": [],
   "source": [
    "client.amm.running()"
   ]
  },
  {
   "cell_type": "code",
   "execution_count": null,
   "id": "51a0b00d-9e2f-491c-bbe3-2f564447a91c",
   "metadata": {
    "tags": []
   },
   "outputs": [],
   "source": [
    "with ms.sample(\"AMM off\"):\n",
    "    b.compute()"
   ]
  },
  {
   "cell_type": "code",
   "execution_count": null,
   "id": "7782343a-197d-4a07-b0fe-2fae0237c31c",
   "metadata": {
    "tags": []
   },
   "outputs": [],
   "source": [
    "#ms.plot(align=True, grid=True)"
   ]
  },
  {
   "cell_type": "code",
   "execution_count": null,
   "id": "d154a421-05fd-4faf-9960-91372d6109b0",
   "metadata": {
    "tags": []
   },
   "outputs": [],
   "source": [
    "df_ms = ms.to_pandas()"
   ]
  },
  {
   "cell_type": "code",
   "execution_count": null,
   "id": "9699e3f4-7cc3-489a-b93e-70a4ed3e0d30",
   "metadata": {
    "tags": []
   },
   "outputs": [],
   "source": [
    "df_ms"
   ]
  },
  {
   "cell_type": "code",
   "execution_count": null,
   "id": "58fc559a-6f27-49f4-a14d-f418f155e248",
   "metadata": {
    "tags": []
   },
   "outputs": [],
   "source": [
    "df_ms.max(axis=0) / 2**30"
   ]
  },
  {
   "cell_type": "code",
   "execution_count": null,
   "id": "227db1b5-158f-4cb7-9a1c-6670ee3538c0",
   "metadata": {
    "tags": []
   },
   "outputs": [],
   "source": [
    "df_ms.to_csv(\"memory_sampler_amm_demo.csv\")"
   ]
  },
  {
   "cell_type": "code",
   "execution_count": null,
   "id": "3a33307d-6d6a-4911-8416-48ee6577c12e",
   "metadata": {
    "tags": []
   },
   "outputs": [],
   "source": [
    "df_align = ms.to_pandas(align=True)\n"
   ]
  },
  {
   "cell_type": "code",
   "execution_count": null,
   "id": "20661fbb-0b26-4fd5-9d28-8eb12cd6dbd5",
   "metadata": {
    "tags": []
   },
   "outputs": [],
   "source": [
    "df_align.to_csv(\"memory_sampler_amm_demo_align.csv\")"
   ]
  },
  {
   "cell_type": "code",
   "execution_count": null,
   "id": "073cb7f3-0d6b-4078-8150-89ef982de11a",
   "metadata": {},
   "outputs": [],
   "source": []
  }
 ],
 "metadata": {
  "kernelspec": {
   "display_name": "Python 3 (ipykernel)",
   "language": "python",
   "name": "python3"
  },
  "language_info": {
   "codemirror_mode": {
    "name": "ipython",
    "version": 3
   },
   "file_extension": ".py",
   "mimetype": "text/x-python",
   "name": "python",
   "nbconvert_exporter": "python",
   "pygments_lexer": "ipython3",
   "version": "3.10.0"
  }
 },
 "nbformat": 4,
 "nbformat_minor": 5
}
